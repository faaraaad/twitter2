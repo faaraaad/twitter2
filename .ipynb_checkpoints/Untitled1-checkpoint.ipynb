{
 "cells": [
  {
   "cell_type": "code",
   "execution_count": 61,
   "id": "63427e5d",
   "metadata": {},
   "outputs": [],
   "source": [
    "import os"
   ]
  },
  {
   "cell_type": "code",
   "execution_count": 37,
   "id": "70ece4df",
   "metadata": {},
   "outputs": [],
   "source": [
    "os.environ[\"DJANGO_ALLOW_ASYNC_UNSAFE\"]='true'"
   ]
  },
  {
   "cell_type": "code",
   "execution_count": 38,
   "id": "bc1b0f9b",
   "metadata": {},
   "outputs": [],
   "source": [
    "import faker, factory"
   ]
  },
  {
   "cell_type": "code",
   "execution_count": 39,
   "id": "96bdd690",
   "metadata": {},
   "outputs": [],
   "source": [
    "from faker import Faker\n",
    "from factory.django import DjangoModelFactory\n",
    "import random"
   ]
  },
  {
   "cell_type": "code",
   "execution_count": 40,
   "id": "0f922901",
   "metadata": {},
   "outputs": [],
   "source": [
    "from app.models import MyUser\n",
    "from django.contrib.auth.models import User"
   ]
  },
  {
   "cell_type": "code",
   "execution_count": 50,
   "id": "06640100",
   "metadata": {},
   "outputs": [
    {
     "name": "stdout",
     "output_type": "stream",
     "text": [
      "<factory.faker.Faker object at 0x7f3996c24b50>\n"
     ]
    }
   ],
   "source": [
    "class UserGenerator(DjangoModelFactory):\n",
    "    class Meta:\n",
    "        model = MyUser\n",
    "    \n",
    "    username = factory.Faker(\"first_name\")\n",
    "    print(str(username))\n",
    "    username = factory.Sequence(lambda n: \"user\" + str(n))\n",
    "#     password = username"
   ]
  },
  {
   "cell_type": "code",
   "execution_count": 15,
   "id": "ff3f5857",
   "metadata": {},
   "outputs": [],
   "source": [
    "from rest_framework_simplejwt.tokens import RefreshToken\n",
    "from rest_framework_simplejwt.tokens import AccessToken\n",
    "\n",
    "import pickle"
   ]
  },
  {
   "cell_type": "code",
   "execution_count": 53,
   "id": "a7558a0c",
   "metadata": {
    "scrolled": false
   },
   "outputs": [],
   "source": [
    "for i in range(1000):\n",
    "    user = UserGenerator()\n",
    "    user.set_password(user.username)\n",
    "    user.save()"
   ]
  },
  {
   "cell_type": "code",
   "execution_count": 55,
   "id": "c7a4e199",
   "metadata": {},
   "outputs": [],
   "source": [
    "from rest_framework_simplejwt.tokens import RefreshToken\n",
    "\n",
    "tokens = []\n",
    "\n",
    "for user in User.objects.all():\n",
    "    token = RefreshToken.for_user(user)\n",
    "    string = str(token.access_token)\n",
    "    tokens.append(string)"
   ]
  },
  {
   "cell_type": "code",
   "execution_count": 59,
   "id": "7a2cf375",
   "metadata": {},
   "outputs": [],
   "source": [
    "with open(\"token.dump\", \"wb\") as f:\n",
    "    pickle.dump(tokens, f)"
   ]
  },
  {
   "cell_type": "code",
   "execution_count": 60,
   "id": "a7e31505",
   "metadata": {},
   "outputs": [],
   "source": [
    "for user in MyUser.objects.all():\n",
    "    selected_user = [u for u in random.choices(MyUser.objects.all(), k=random.randint(4,10))]\n",
    "    user.followings.set(selected_user)"
   ]
  },
  {
   "cell_type": "code",
   "execution_count": 65,
   "id": "6c0586f0",
   "metadata": {},
   "outputs": [
    {
     "data": {
      "text/plain": [
       "456"
      ]
     },
     "execution_count": 65,
     "metadata": {},
     "output_type": "execute_result"
    }
   ],
   "source": [
    "Post.objects.count()"
   ]
  },
  {
   "cell_type": "code",
   "execution_count": null,
   "id": "1b3682d2",
   "metadata": {},
   "outputs": [],
   "source": []
  }
 ],
 "metadata": {
  "kernelspec": {
   "display_name": "Django Shell-Plus",
   "language": "python",
   "name": "django_extensions"
  },
  "language_info": {
   "codemirror_mode": {
    "name": "ipython",
    "version": 3
   },
   "file_extension": ".py",
   "mimetype": "text/x-python",
   "name": "python",
   "nbconvert_exporter": "python",
   "pygments_lexer": "ipython3",
   "version": "3.10.6"
  }
 },
 "nbformat": 4,
 "nbformat_minor": 5
}
