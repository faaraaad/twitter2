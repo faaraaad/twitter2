{
 "cells": [
  {
   "cell_type": "code",
   "execution_count": 1,
   "id": "a04410c7",
   "metadata": {},
   "outputs": [],
   "source": [
    "import os"
   ]
  },
  {
   "cell_type": "code",
   "execution_count": 2,
   "id": "b64b872c",
   "metadata": {},
   "outputs": [],
   "source": [
    "\n",
    "os.environ['DJANGO_ALLOW_ASYNC_UNSAFE'] = 'true'"
   ]
  },
  {
   "cell_type": "code",
   "execution_count": 3,
   "id": "453f0f7d",
   "metadata": {},
   "outputs": [],
   "source": [
    "from django.contrib.auth.models import User"
   ]
  },
  {
   "cell_type": "code",
   "execution_count": 4,
   "id": "99f7ce29",
   "metadata": {},
   "outputs": [
    {
     "ename": "ImportError",
     "evalue": "cannot import name 'PostModel' from 'app.models' (/home/farhad/Desktop/idekavan/twitter2/twitter/app/models.py)",
     "output_type": "error",
     "traceback": [
      "\u001b[0;31m---------------------------------------------------------------------------\u001b[0m",
      "\u001b[0;31mImportError\u001b[0m                               Traceback (most recent call last)",
      "Cell \u001b[0;32mIn[4], line 1\u001b[0m\n\u001b[0;32m----> 1\u001b[0m \u001b[38;5;28;01mfrom\u001b[39;00m \u001b[38;5;21;01mapp\u001b[39;00m\u001b[38;5;21;01m.\u001b[39;00m\u001b[38;5;21;01mmodels\u001b[39;00m \u001b[38;5;28;01mimport\u001b[39;00m MyUser, PostModel\n",
      "\u001b[0;31mImportError\u001b[0m: cannot import name 'PostModel' from 'app.models' (/home/farhad/Desktop/idekavan/twitter2/twitter/app/models.py)"
     ]
    }
   ],
   "source": [
    "from app.models import MyUser, PostModel"
   ]
  },
  {
   "cell_type": "code",
   "execution_count": 19,
   "id": "aadd3eea",
   "metadata": {},
   "outputs": [],
   "source": [
    "ali = MyUser(username='ali')\n",
    "ali.set_password('ali')\n",
    "ali.save()"
   ]
  },
  {
   "cell_type": "code",
   "execution_count": 20,
   "id": "77848a9d",
   "metadata": {},
   "outputs": [],
   "source": [
    "ahmad = MyUser(username='ahmad')\n",
    "ahmad.set_password('ahmad')\n",
    "ahmad.save()"
   ]
  },
  {
   "cell_type": "code",
   "execution_count": 21,
   "id": "ab276a6f",
   "metadata": {},
   "outputs": [],
   "source": [
    "sima = MyUser(username='sima')\n",
    "sima.set_password('sima')\n",
    "sima.save()"
   ]
  },
  {
   "cell_type": "code",
   "execution_count": 22,
   "id": "c9a81172",
   "metadata": {},
   "outputs": [],
   "source": [
    "danial = MyUser(username='danial')\n",
    "danial.set_password('danial')\n",
    "danial.save()"
   ]
  },
  {
   "cell_type": "code",
   "execution_count": 26,
   "id": "90b88bf0",
   "metadata": {},
   "outputs": [],
   "source": [
    "ali.followings.add(ahmad)"
   ]
  },
  {
   "cell_type": "code",
   "execution_count": 27,
   "id": "2eaa3f85",
   "metadata": {},
   "outputs": [],
   "source": [
    "ali.save()"
   ]
  },
  {
   "cell_type": "code",
   "execution_count": 30,
   "id": "0535209b",
   "metadata": {},
   "outputs": [
    {
     "data": {
      "text/plain": [
       "True"
      ]
     },
     "execution_count": 30,
     "metadata": {},
     "output_type": "execute_result"
    }
   ],
   "source": [
    "ahmad in ali.followings.all()"
   ]
  },
  {
   "cell_type": "code",
   "execution_count": 36,
   "id": "d608cdec",
   "metadata": {},
   "outputs": [
    {
     "data": {
      "text/plain": [
       "<QuerySet [<MyUser: sima>]>"
      ]
     },
     "execution_count": 36,
     "metadata": {},
     "output_type": "execute_result"
    }
   ],
   "source": [
    "ali.followings.all()\n"
   ]
  },
  {
   "cell_type": "code",
   "execution_count": 39,
   "id": "0b68809d",
   "metadata": {},
   "outputs": [
    {
     "ename": "TypeError",
     "evalue": "Post() got unexpected keyword arguments: 'author'",
     "output_type": "error",
     "traceback": [
      "\u001b[0;31m---------------------------------------------------------------------------\u001b[0m",
      "\u001b[0;31mTypeError\u001b[0m                                 Traceback (most recent call last)",
      "Cell \u001b[0;32mIn[39], line 1\u001b[0m\n\u001b[0;32m----> 1\u001b[0m post \u001b[38;5;241m=\u001b[39m \u001b[43mPost\u001b[49m\u001b[43m(\u001b[49m\u001b[43mauthor\u001b[49m\u001b[38;5;241;43m=\u001b[39;49m\u001b[43msima\u001b[49m\u001b[43m,\u001b[49m\u001b[43m \u001b[49m\u001b[43mbody\u001b[49m\u001b[38;5;241;43m=\u001b[39;49m\u001b[38;5;124;43m'\u001b[39;49m\u001b[38;5;124;43mthis is first post of sima\u001b[39;49m\u001b[38;5;124;43m'\u001b[39;49m\u001b[43m)\u001b[49m\n\u001b[1;32m      2\u001b[0m post\u001b[38;5;241m.\u001b[39msave()\n",
      "File \u001b[0;32m~/Desktop/idekavan/twitter2/venv/lib/python3.10/site-packages/django/db/models/base.py:567\u001b[0m, in \u001b[0;36mModel.__init__\u001b[0;34m(self, *args, **kwargs)\u001b[0m\n\u001b[1;32m    565\u001b[0m     \u001b[38;5;28;01mif\u001b[39;00m unexpected:\n\u001b[1;32m    566\u001b[0m         unexpected_names \u001b[38;5;241m=\u001b[39m \u001b[38;5;124m\"\u001b[39m\u001b[38;5;124m, \u001b[39m\u001b[38;5;124m\"\u001b[39m\u001b[38;5;241m.\u001b[39mjoin(\u001b[38;5;28mrepr\u001b[39m(n) \u001b[38;5;28;01mfor\u001b[39;00m n \u001b[38;5;129;01min\u001b[39;00m unexpected)\n\u001b[0;32m--> 567\u001b[0m         \u001b[38;5;28;01mraise\u001b[39;00m \u001b[38;5;167;01mTypeError\u001b[39;00m(\n\u001b[1;32m    568\u001b[0m             \u001b[38;5;124mf\u001b[39m\u001b[38;5;124m\"\u001b[39m\u001b[38;5;132;01m{\u001b[39;00m\u001b[38;5;28mcls\u001b[39m\u001b[38;5;241m.\u001b[39m\u001b[38;5;18m__name__\u001b[39m\u001b[38;5;132;01m}\u001b[39;00m\u001b[38;5;124m() got unexpected keyword arguments: \u001b[39m\u001b[38;5;124m\"\u001b[39m\n\u001b[1;32m    569\u001b[0m             \u001b[38;5;124mf\u001b[39m\u001b[38;5;124m\"\u001b[39m\u001b[38;5;132;01m{\u001b[39;00munexpected_names\u001b[38;5;132;01m}\u001b[39;00m\u001b[38;5;124m\"\u001b[39m\n\u001b[1;32m    570\u001b[0m         )\n\u001b[1;32m    571\u001b[0m \u001b[38;5;28msuper\u001b[39m()\u001b[38;5;241m.\u001b[39m\u001b[38;5;21m__init__\u001b[39m()\n\u001b[1;32m    572\u001b[0m post_init\u001b[38;5;241m.\u001b[39msend(sender\u001b[38;5;241m=\u001b[39m\u001b[38;5;28mcls\u001b[39m, instance\u001b[38;5;241m=\u001b[39m\u001b[38;5;28mself\u001b[39m)\n",
      "\u001b[0;31mTypeError\u001b[0m: Post() got unexpected keyword arguments: 'author'"
     ]
    }
   ],
   "source": [
    "post = Post(author=sima, body='this is first post of sima')\n",
    "post.save()"
   ]
  },
  {
   "cell_type": "code",
   "execution_count": null,
   "id": "7d128329",
   "metadata": {},
   "outputs": [],
   "source": []
  }
 ],
 "metadata": {
  "kernelspec": {
   "display_name": "Django Shell-Plus",
   "language": "python",
   "name": "django_extensions"
  },
  "language_info": {
   "codemirror_mode": {
    "name": "ipython",
    "version": 3
   },
   "file_extension": ".py",
   "mimetype": "text/x-python",
   "name": "python",
   "nbconvert_exporter": "python",
   "pygments_lexer": "ipython3",
   "version": "3.10.6"
  }
 },
 "nbformat": 4,
 "nbformat_minor": 5
}
